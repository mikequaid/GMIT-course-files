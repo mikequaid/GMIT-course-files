{
 "cells": [
  {
   "cell_type": "markdown",
   "metadata": {},
   "source": [
    "# The numpy.random package"
   ]
  },
  {
   "cell_type": "code",
   "execution_count": 18,
   "metadata": {},
   "outputs": [
    {
     "data": {
      "text/plain": [
       "array([[[0.70315565, 0.29451617, 0.18595797, 0.10742013],\n",
       "        [0.36362729, 0.30918635, 0.82604499, 0.16690758],\n",
       "        [0.93774348, 0.27111391, 0.42236437, 0.36344006],\n",
       "        [0.94372844, 0.71056012, 0.87924042, 0.8121544 ],\n",
       "        [0.82267004, 0.96920176, 0.39792774, 0.76705423]],\n",
       "\n",
       "       [[0.20586379, 0.99647916, 0.74770022, 0.31179239],\n",
       "        [0.62181054, 0.10777927, 0.62977119, 0.18566913],\n",
       "        [0.15704385, 0.83271946, 0.54702999, 0.59068768],\n",
       "        [0.32037669, 0.52388505, 0.20009646, 0.011133  ],\n",
       "        [0.21403055, 0.1380743 , 0.41117003, 0.52493278]],\n",
       "\n",
       "       [[0.87027347, 0.165376  , 0.2419881 , 0.85359564],\n",
       "        [0.0949941 , 0.92843651, 0.02638743, 0.50826814],\n",
       "        [0.9027827 , 0.40701252, 0.94070386, 0.25127108],\n",
       "        [0.28721981, 0.93153686, 0.72937212, 0.35285791],\n",
       "        [0.95212092, 0.64507341, 0.30054304, 0.05025775]]])"
      ]
     },
     "execution_count": 18,
     "metadata": {},
     "output_type": "execute_result"
    }
   ],
   "source": [
    "import numpy as np\n",
    "np.random.rand(3, 5, 4)"
   ]
  },
  {
   "cell_type": "code",
   "execution_count": 20,
   "metadata": {},
   "outputs": [
    {
     "data": {
      "text/plain": [
       "(array([ 955., 1032., 1060., 1014.,  997., 1008.,  997.,  994.,  959.,\n",
       "         984.]),\n",
       " array([8.51313838e-05, 1.00075819e-01, 2.00066506e-01, 3.00057193e-01,\n",
       "        4.00047880e-01, 5.00038567e-01, 6.00029254e-01, 7.00019942e-01,\n",
       "        8.00010629e-01, 9.00001316e-01, 9.99992003e-01]),\n",
       " <a list of 10 Patch objects>)"
      ]
     },
     "execution_count": 20,
     "metadata": {},
     "output_type": "execute_result"
    },
    {
     "data": {
      "image/png": "[encoded data removed]",
      "text/plain": [
       "<matplotlib.figure.Figure at 0x6ab66f0>"
      ]
     },
     "metadata": {},
     "output_type": "display_data"
    }
   ],
   "source": [
    "x=np.random.rand(10000)\n",
    "import matplotlib.pyplot as plt\n",
    "plt.hist(x)"
   ]
  },
  {
   "cell_type": "code",
   "execution_count": 22,
   "metadata": {},
   "outputs": [
    {
     "data": {
      "text/plain": [
       "array([-0.99077388, -0.75028656, -0.22259983, -0.77449304, -0.99136851,\n",
       "       -0.70565104, -0.91452076, -0.6394988 , -0.21546177, -0.42438571,\n",
       "       -0.88481304, -0.08736532, -0.92111016, -0.26608941, -0.59586569,\n",
       "       -0.05609653, -0.02308008, -0.90923777, -0.88757706, -0.27359552,\n",
       "       -0.84071966, -0.89799312, -0.90586641, -0.68517813, -0.63215124,\n",
       "       -0.2390735 , -0.82611125, -0.02824371, -0.18299082, -0.83863082,\n",
       "       -0.1181065 , -0.86881392, -0.65607278, -0.80146641, -0.14911309,\n",
       "       -0.37653755, -0.93151944, -0.21576948, -0.74415599, -0.78242392,\n",
       "       -0.31369942, -0.69732099, -0.63595419, -0.52418624, -0.68577039,\n",
       "       -0.87462373, -0.77977035, -0.85642198, -0.55363256, -0.742608  ,\n",
       "       -0.31224986, -0.26205726, -0.02989397, -0.70083185, -0.01499507,\n",
       "       -0.85172519, -0.35684824, -0.11779352, -0.95106942, -0.84048038,\n",
       "       -0.93332736, -0.15317319, -0.73792115, -0.68103589, -0.36932829,\n",
       "       -0.75034401, -0.28694816, -0.60224643, -0.65920685, -0.99740827,\n",
       "       -0.77813892, -0.38362404, -0.84422285, -0.44745083, -0.11886072,\n",
       "       -0.8522993 , -0.44463386, -0.85613356, -0.32871089, -0.93711858,\n",
       "       -0.41115501, -0.86906983, -0.97147383, -0.13316321, -0.17631105,\n",
       "       -0.50630606, -0.34906173, -0.61059799, -0.73412953, -0.49638555,\n",
       "       -0.03423014, -0.12129962, -0.35140716, -0.72258644, -0.82234288,\n",
       "       -0.40886045, -0.78722771, -0.14344126, -0.16218585, -0.36963509])"
      ]
     },
     "execution_count": 22,
     "metadata": {},
     "output_type": "execute_result"
    }
   ],
   "source": [
    "np.random.uniform(-1,0,100)"
   ]
  },
  {
   "cell_type": "code",
   "execution_count": 24,
   "metadata": {},
   "outputs": [
    {
     "data": {
      "text/plain": [
       "(array([ 89., 116.,  91.,  94., 104., 111.,  84., 116.,  93., 102.]),\n",
       " array([6.50579913e-02, 1.00511562e+01, 2.00372545e+01, 3.00233527e+01,\n",
       "        4.00094509e+01, 4.99955492e+01, 5.99816474e+01, 6.99677456e+01,\n",
       "        7.99538439e+01, 8.99399421e+01, 9.99260403e+01]),\n",
       " <a list of 10 Patch objects>)"
      ]
     },
     "execution_count": 24,
     "metadata": {},
     "output_type": "execute_result"
    },
    {
     "data": {
      "image/png": "[encoded data removed]",
      "text/plain": [
       "<matplotlib.figure.Figure at 0x73f0990>"
      ]
     },
     "metadata": {},
     "output_type": "display_data"
    }
   ],
   "source": [
    "y=np.random.uniform(0,100,1000)\n",
    "plt.hist(y)"
   ]
  },
  {
   "cell_type": "code",
   "execution_count": 27,
   "metadata": {},
   "outputs": [
    {
     "data": {
      "text/plain": [
       "(array([ 12.,  40., 114., 204., 268., 201., 120.,  28.,  11.,   2.]),\n",
       " array([-0.30687368, -0.23911961, -0.17136554, -0.10361147, -0.0358574 ,\n",
       "         0.03189667,  0.09965074,  0.1674048 ,  0.23515887,  0.30291294,\n",
       "         0.37066701]),\n",
       " <a list of 10 Patch objects>)"
      ]
     },
     "execution_count": 27,
     "metadata": {},
     "output_type": "execute_result"
    },
    {
     "data": {
      "image/png": "[encoded data removed]",
      "text/plain": [
       "<matplotlib.figure.Figure at 0x10c0e10>"
      ]
     },
     "metadata": {},
     "output_type": "display_data"
    }
   ],
   "source": [
    "z=np.random.normal(0,0.1,1000)\n",
    "plt.hist(z)"
   ]
  },
  {
   "cell_type": "code",
   "execution_count": 30,
   "metadata": {},
   "outputs": [
    {
     "data": {
      "text/plain": [
       "(array([  4.,  19.,  64., 188., 260., 246., 159.,  50.,   9.,   1.]),\n",
       " array([-23.81223441, -16.81514156,  -9.81804871,  -2.82095586,\n",
       "          4.17613699,  11.17322984,  18.17032269,  25.16741554,\n",
       "         32.16450839,  39.16160124,  46.15869409]),\n",
       " <a list of 10 Patch objects>)"
      ]
     },
     "execution_count": 30,
     "metadata": {},
     "output_type": "execute_result"
    },
    {
     "data": {
      "image/png": "[encoded data removed]",
      "text/plain": [
       "<matplotlib.figure.Figure at 0x110f230>"
      ]
     },
     "metadata": {},
     "output_type": "display_data"
    }
   ],
   "source": [
    "a=np.random.normal(10,10,1000)\n",
    "plt.hist(a)"
   ]
  },
  {
   "cell_type": "code",
   "execution_count": null,
   "metadata": {},
   "outputs": [],
   "source": []
  }
 ],
 "metadata": {
  "kernelspec": {
   "display_name": "Python 3",
   "language": "python",
   "name": "python3"
  },
  "language_info": {
   "codemirror_mode": {
    "name": "ipython",
    "version": 3
   },
   "file_extension": ".py",
   "mimetype": "text/x-python",
   "name": "python",
   "nbconvert_exporter": "python",
   "pygments_lexer": "ipython3",
   "version": "3.6.4"
  }
 },
 "nbformat": 4,
 "nbformat_minor": 2
}
